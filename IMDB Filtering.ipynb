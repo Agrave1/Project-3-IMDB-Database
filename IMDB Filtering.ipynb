{
 "cells": [
  {
   "cell_type": "code",
   "execution_count": 1,
   "id": "957e0300",
   "metadata": {},
   "outputs": [],
   "source": [
    "import pandas as pd\n",
    "import numpy as np"
   ]
  },
  {
   "cell_type": "code",
   "execution_count": 2,
   "id": "a8c29352",
   "metadata": {},
   "outputs": [],
   "source": [
    "basics_url = \"https://datasets.imdbws.com/title.basics.tsv.gz\"\n",
    "akas_url = \"https://datasets.imdbws.com/title.akas.tsv.gz\"\n",
    "ratings_url = \"https://datasets.imdbws.com/title.ratings.tsv.gz\""
   ]
  },
  {
   "cell_type": "code",
   "execution_count": 3,
   "id": "eb7771b6",
   "metadata": {},
   "outputs": [],
   "source": [
    "basics = pd.read_csv(basics_url, sep = \"\\t\", low_memory = False)\n",
    "akas = pd.read_csv(akas_url, sep = \"\\t\", low_memory = False)\n",
    "ratings = pd.read_csv(ratings_url, sep = \"\\t\", low_memory = False)"
   ]
  },
  {
   "cell_type": "markdown",
   "id": "379ca522",
   "metadata": {},
   "source": [
    "# Akas Processing"
   ]
  },
  {
   "cell_type": "code",
   "execution_count": 4,
   "id": "45d950c8",
   "metadata": {},
   "outputs": [
    {
     "name": "stdout",
     "output_type": "stream",
     "text": [
      "<class 'pandas.core.frame.DataFrame'>\n",
      "RangeIndex: 33574168 entries, 0 to 33574167\n",
      "Data columns (total 8 columns):\n",
      " #   Column           Dtype \n",
      "---  ------           ----- \n",
      " 0   titleId          object\n",
      " 1   ordering         int64 \n",
      " 2   title            object\n",
      " 3   region           object\n",
      " 4   language         object\n",
      " 5   types            object\n",
      " 6   attributes       object\n",
      " 7   isOriginalTitle  object\n",
      "dtypes: int64(1), object(7)\n",
      "memory usage: 2.0+ GB\n"
     ]
    }
   ],
   "source": [
    "akas.info()"
   ]
  },
  {
   "cell_type": "code",
   "execution_count": 5,
   "id": "64889633",
   "metadata": {},
   "outputs": [],
   "source": [
    "akas.replace({\"\\\\N\":np.nan}, inplace = True)"
   ]
  },
  {
   "cell_type": "code",
   "execution_count": 6,
   "id": "bf8917f2",
   "metadata": {},
   "outputs": [
    {
     "data": {
      "text/plain": [
       "titleId                   0\n",
       "ordering                  0\n",
       "title                     5\n",
       "region              1866502\n",
       "language            6321236\n",
       "types              28244589\n",
       "attributes         33325433\n",
       "isOriginalTitle        2187\n",
       "dtype: int64"
      ]
     },
     "execution_count": 6,
     "metadata": {},
     "output_type": "execute_result"
    }
   ],
   "source": [
    "akas.isna().sum()"
   ]
  },
  {
   "cell_type": "code",
   "execution_count": 7,
   "id": "f76ee02e",
   "metadata": {},
   "outputs": [
    {
     "data": {
      "text/plain": [
       "JP    4007694\n",
       "FR    4006579\n",
       "DE    4003132\n",
       "IN    3938103\n",
       "ES    3929605\n",
       "       ...   \n",
       "CC          1\n",
       "TV          1\n",
       "NU          1\n",
       "PW          1\n",
       "NR          1\n",
       "Name: region, Length: 247, dtype: int64"
      ]
     },
     "execution_count": 7,
     "metadata": {},
     "output_type": "execute_result"
    }
   ],
   "source": [
    "akas[\"region\"].value_counts()"
   ]
  },
  {
   "cell_type": "code",
   "execution_count": 8,
   "id": "2c037ac8",
   "metadata": {},
   "outputs": [
    {
     "data": {
      "text/plain": [
       "US    1361717\n",
       "Name: region, dtype: int64"
      ]
     },
     "execution_count": 8,
     "metadata": {},
     "output_type": "execute_result"
    }
   ],
   "source": [
    "akas.query(\"region == 'US'\", inplace = True)\n",
    "akas[\"region\"].value_counts()"
   ]
  },
  {
   "cell_type": "code",
   "execution_count": 9,
   "id": "07ee5319",
   "metadata": {},
   "outputs": [
    {
     "name": "stdout",
     "output_type": "stream",
     "text": [
      "<class 'pandas.core.frame.DataFrame'>\n",
      "Int64Index: 1361717 entries, 5 to 33573912\n",
      "Data columns (total 8 columns):\n",
      " #   Column           Non-Null Count    Dtype \n",
      "---  ------           --------------    ----- \n",
      " 0   titleId          1361717 non-null  object\n",
      " 1   ordering         1361717 non-null  int64 \n",
      " 2   title            1361717 non-null  object\n",
      " 3   region           1361717 non-null  object\n",
      " 4   language         3695 non-null     object\n",
      " 5   types            965084 non-null   object\n",
      " 6   attributes       45214 non-null    object\n",
      " 7   isOriginalTitle  1360342 non-null  object\n",
      "dtypes: int64(1), object(7)\n",
      "memory usage: 93.5+ MB\n"
     ]
    }
   ],
   "source": [
    "akas.info()"
   ]
  },
  {
   "cell_type": "markdown",
   "id": "8e9154e7",
   "metadata": {},
   "source": [
    "# Basics Processing"
   ]
  },
  {
   "cell_type": "code",
   "execution_count": 10,
   "id": "3b388879",
   "metadata": {},
   "outputs": [
    {
     "name": "stdout",
     "output_type": "stream",
     "text": [
      "<class 'pandas.core.frame.DataFrame'>\n",
      "RangeIndex: 9313429 entries, 0 to 9313428\n",
      "Data columns (total 9 columns):\n",
      " #   Column          Dtype \n",
      "---  ------          ----- \n",
      " 0   tconst          object\n",
      " 1   titleType       object\n",
      " 2   primaryTitle    object\n",
      " 3   originalTitle   object\n",
      " 4   isAdult         object\n",
      " 5   startYear       object\n",
      " 6   endYear         object\n",
      " 7   runtimeMinutes  object\n",
      " 8   genres          object\n",
      "dtypes: object(9)\n",
      "memory usage: 639.5+ MB\n"
     ]
    }
   ],
   "source": [
    "basics.info()"
   ]
  },
  {
   "cell_type": "code",
   "execution_count": 11,
   "id": "63c56371",
   "metadata": {},
   "outputs": [],
   "source": [
    "basics.replace({\"\\\\N\":np.nan}, inplace = True)"
   ]
  },
  {
   "cell_type": "code",
   "execution_count": 12,
   "id": "8a8a95dd",
   "metadata": {},
   "outputs": [
    {
     "data": {
      "text/plain": [
       "tconst                  0\n",
       "titleType               0\n",
       "primaryTitle           11\n",
       "originalTitle          11\n",
       "isAdult                 1\n",
       "startYear         1246398\n",
       "endYear           9215799\n",
       "runtimeMinutes    6792331\n",
       "genres             429619\n",
       "dtype: int64"
      ]
     },
     "execution_count": 12,
     "metadata": {},
     "output_type": "execute_result"
    }
   ],
   "source": [
    "basics.isna().sum()"
   ]
  },
  {
   "cell_type": "code",
   "execution_count": 13,
   "id": "e308eb93",
   "metadata": {},
   "outputs": [],
   "source": [
    "basics.dropna(subset = [\"runtimeMinutes\", \"genres\"], inplace = True)"
   ]
  },
  {
   "cell_type": "code",
   "execution_count": 14,
   "id": "2ea0a379",
   "metadata": {},
   "outputs": [
    {
     "data": {
      "text/plain": [
       "tconst                  0\n",
       "titleType               0\n",
       "primaryTitle            1\n",
       "originalTitle           1\n",
       "isAdult                 0\n",
       "startYear           41104\n",
       "endYear           2407063\n",
       "runtimeMinutes          0\n",
       "genres                  0\n",
       "dtype: int64"
      ]
     },
     "execution_count": 14,
     "metadata": {},
     "output_type": "execute_result"
    }
   ],
   "source": [
    "basics.isna().sum()"
   ]
  },
  {
   "cell_type": "code",
   "execution_count": 15,
   "id": "e588296a",
   "metadata": {},
   "outputs": [
    {
     "data": {
      "text/plain": [
       "tvEpisode       1107218\n",
       "short            580266\n",
       "movie            370350\n",
       "video            176165\n",
       "tvMovie           88774\n",
       "tvSeries          87414\n",
       "tvSpecial         16849\n",
       "tvMiniSeries      16314\n",
       "tvShort            9437\n",
       "videoGame           308\n",
       "Name: titleType, dtype: int64"
      ]
     },
     "execution_count": 15,
     "metadata": {},
     "output_type": "execute_result"
    }
   ],
   "source": [
    "basics[\"titleType\"].value_counts()"
   ]
  },
  {
   "cell_type": "code",
   "execution_count": 16,
   "id": "ea175f0e",
   "metadata": {},
   "outputs": [
    {
     "data": {
      "text/plain": [
       "movie    370350\n",
       "Name: titleType, dtype: int64"
      ]
     },
     "execution_count": 16,
     "metadata": {},
     "output_type": "execute_result"
    }
   ],
   "source": [
    "basics.query(\"titleType == 'movie'\", inplace = True)\n",
    "basics[\"titleType\"].value_counts()"
   ]
  },
  {
   "cell_type": "code",
   "execution_count": 17,
   "id": "f87d8473",
   "metadata": {},
   "outputs": [
    {
     "data": {
      "text/plain": [
       "2017    14233\n",
       "2018    14175\n",
       "2016    13847\n",
       "2019    13838\n",
       "2015    13354\n",
       "        ...  \n",
       "1896        1\n",
       "1894        1\n",
       "1899        1\n",
       "1904        1\n",
       "2026        1\n",
       "Name: startYear, Length: 128, dtype: int64"
      ]
     },
     "execution_count": 17,
     "metadata": {},
     "output_type": "execute_result"
    }
   ],
   "source": [
    "basics[\"startYear\"].value_counts()"
   ]
  },
  {
   "cell_type": "code",
   "execution_count": 18,
   "id": "74ae59a8",
   "metadata": {},
   "outputs": [
    {
     "data": {
      "text/plain": [
       "2017    14233\n",
       "2018    14175\n",
       "2016    13847\n",
       "2019    13838\n",
       "2015    13354\n",
       "2014    12998\n",
       "2013    12296\n",
       "2021    11845\n",
       "2012    11549\n",
       "2020    11295\n",
       "2011    10699\n",
       "2010    10135\n",
       "2022     9831\n",
       "2009     9290\n",
       "2008     8090\n",
       "2007     6897\n",
       "2006     6437\n",
       "2005     5774\n",
       "2004     5144\n",
       "2003     4539\n",
       "2002     4095\n",
       "2001     3821\n",
       "2000     3598\n",
       "Name: startYear, dtype: int64"
      ]
     },
     "execution_count": 18,
     "metadata": {},
     "output_type": "execute_result"
    }
   ],
   "source": [
    "basics.query(\"startYear >= '2000' & startYear <= '2022'\", inplace = True)\n",
    "basics[\"startYear\"].value_counts()"
   ]
  },
  {
   "cell_type": "code",
   "execution_count": 19,
   "id": "98af5353",
   "metadata": {},
   "outputs": [
    {
     "data": {
      "text/plain": [
       "Documentary                    51553\n",
       "Drama                          35232\n",
       "Comedy                         13210\n",
       "Comedy,Drama                    6341\n",
       "Horror                          5676\n",
       "                               ...  \n",
       "Horror,Music,Mystery               1\n",
       "Documentary,Sci-Fi,Thriller        1\n",
       "Crime,Documentary,Romance          1\n",
       "Adventure,History,Music            1\n",
       "Crime,Fantasy,Sci-Fi               1\n",
       "Name: genres, Length: 1191, dtype: int64"
      ]
     },
     "execution_count": 19,
     "metadata": {},
     "output_type": "execute_result"
    }
   ],
   "source": [
    "basics[\"genres\"].value_counts()"
   ]
  },
  {
   "cell_type": "code",
   "execution_count": 20,
   "id": "6b43682c",
   "metadata": {},
   "outputs": [
    {
     "data": {
      "text/plain": [
       "Drama                          35232\n",
       "Comedy                         13210\n",
       "Comedy,Drama                    6341\n",
       "Horror                          5676\n",
       "Drama,Romance                   4212\n",
       "                               ...  \n",
       "Animation,Music,Romance            1\n",
       "Action,Animation,Game-Show         1\n",
       "Horror,Reality-TV,Talk-Show        1\n",
       "Family,Musical,Sport               1\n",
       "Crime,Fantasy,Sci-Fi               1\n",
       "Name: genres, Length: 971, dtype: int64"
      ]
     },
     "execution_count": 20,
     "metadata": {},
     "output_type": "execute_result"
    }
   ],
   "source": [
    "is_documentary = basics[\"genres\"].str.contains(\"documentary\", case = False)\n",
    "basics = basics[~is_documentary]\n",
    "basics[\"genres\"].value_counts()"
   ]
  },
  {
   "cell_type": "code",
   "execution_count": 21,
   "id": "f5304067",
   "metadata": {},
   "outputs": [
    {
     "data": {
      "text/plain": [
       "34793       True\n",
       "61095       True\n",
       "67641       True\n",
       "77935      False\n",
       "86771       True\n",
       "           ...  \n",
       "9313101     True\n",
       "9313110     True\n",
       "9313149    False\n",
       "9313194     True\n",
       "9313278    False\n",
       "Name: tconst, Length: 144130, dtype: bool"
      ]
     },
     "execution_count": 21,
     "metadata": {},
     "output_type": "execute_result"
    }
   ],
   "source": [
    "keepers = basics[\"tconst\"].isin(akas[\"titleId\"])\n",
    "keepers"
   ]
  },
  {
   "cell_type": "code",
   "execution_count": 22,
   "id": "90fcd327",
   "metadata": {},
   "outputs": [],
   "source": [
    "basics = basics[keepers]"
   ]
  },
  {
   "cell_type": "code",
   "execution_count": 23,
   "id": "867f2241",
   "metadata": {},
   "outputs": [
    {
     "name": "stdout",
     "output_type": "stream",
     "text": [
      "<class 'pandas.core.frame.DataFrame'>\n",
      "Int64Index: 83047 entries, 34793 to 9313194\n",
      "Data columns (total 9 columns):\n",
      " #   Column          Non-Null Count  Dtype \n",
      "---  ------          --------------  ----- \n",
      " 0   tconst          83047 non-null  object\n",
      " 1   titleType       83047 non-null  object\n",
      " 2   primaryTitle    83047 non-null  object\n",
      " 3   originalTitle   83047 non-null  object\n",
      " 4   isAdult         83047 non-null  object\n",
      " 5   startYear       83047 non-null  object\n",
      " 6   endYear         0 non-null      object\n",
      " 7   runtimeMinutes  83047 non-null  object\n",
      " 8   genres          83047 non-null  object\n",
      "dtypes: object(9)\n",
      "memory usage: 6.3+ MB\n"
     ]
    }
   ],
   "source": [
    "basics.info()"
   ]
  },
  {
   "cell_type": "markdown",
   "id": "12e43d7d",
   "metadata": {},
   "source": [
    "# Ratings Processing"
   ]
  },
  {
   "cell_type": "code",
   "execution_count": 24,
   "id": "21d8178c",
   "metadata": {},
   "outputs": [
    {
     "name": "stdout",
     "output_type": "stream",
     "text": [
      "<class 'pandas.core.frame.DataFrame'>\n",
      "RangeIndex: 1238963 entries, 0 to 1238962\n",
      "Data columns (total 3 columns):\n",
      " #   Column         Non-Null Count    Dtype  \n",
      "---  ------         --------------    -----  \n",
      " 0   tconst         1238963 non-null  object \n",
      " 1   averageRating  1238963 non-null  float64\n",
      " 2   numVotes       1238963 non-null  int64  \n",
      "dtypes: float64(1), int64(1), object(1)\n",
      "memory usage: 28.4+ MB\n"
     ]
    }
   ],
   "source": [
    "ratings.info()"
   ]
  },
  {
   "cell_type": "code",
   "execution_count": 25,
   "id": "e5969ebc",
   "metadata": {},
   "outputs": [],
   "source": [
    "ratings.replace({\"\\\\N\":np.nan}, inplace = True)"
   ]
  },
  {
   "cell_type": "code",
   "execution_count": 26,
   "id": "93d8ff05",
   "metadata": {},
   "outputs": [
    {
     "data": {
      "text/plain": [
       "tconst           0\n",
       "averageRating    0\n",
       "numVotes         0\n",
       "dtype: int64"
      ]
     },
     "execution_count": 26,
     "metadata": {},
     "output_type": "execute_result"
    }
   ],
   "source": [
    "ratings.isna().sum()"
   ]
  },
  {
   "cell_type": "code",
   "execution_count": 27,
   "id": "3535dad9",
   "metadata": {},
   "outputs": [
    {
     "data": {
      "text/plain": [
       "0           True\n",
       "1           True\n",
       "2          False\n",
       "3          False\n",
       "4           True\n",
       "           ...  \n",
       "1238958    False\n",
       "1238959     True\n",
       "1238960    False\n",
       "1238961    False\n",
       "1238962    False\n",
       "Name: tconst, Length: 1238963, dtype: bool"
      ]
     },
     "execution_count": 27,
     "metadata": {},
     "output_type": "execute_result"
    }
   ],
   "source": [
    "keepers2 = ratings[\"tconst\"].isin(akas[\"titleId\"])\n",
    "keepers2"
   ]
  },
  {
   "cell_type": "code",
   "execution_count": 28,
   "id": "cd827a47",
   "metadata": {},
   "outputs": [],
   "source": [
    "ratings = ratings[keepers2]"
   ]
  },
  {
   "cell_type": "code",
   "execution_count": 29,
   "id": "1c634ffa",
   "metadata": {},
   "outputs": [
    {
     "name": "stdout",
     "output_type": "stream",
     "text": [
      "<class 'pandas.core.frame.DataFrame'>\n",
      "Int64Index: 1361717 entries, 5 to 33573912\n",
      "Data columns (total 8 columns):\n",
      " #   Column           Non-Null Count    Dtype \n",
      "---  ------           --------------    ----- \n",
      " 0   titleId          1361717 non-null  object\n",
      " 1   ordering         1361717 non-null  int64 \n",
      " 2   title            1361717 non-null  object\n",
      " 3   region           1361717 non-null  object\n",
      " 4   language         3695 non-null     object\n",
      " 5   types            965084 non-null   object\n",
      " 6   attributes       45214 non-null    object\n",
      " 7   isOriginalTitle  1360342 non-null  object\n",
      "dtypes: int64(1), object(7)\n",
      "memory usage: 93.5+ MB\n"
     ]
    }
   ],
   "source": [
    "akas.info()"
   ]
  },
  {
   "cell_type": "code",
   "execution_count": 30,
   "id": "23f547e6",
   "metadata": {},
   "outputs": [
    {
     "name": "stdout",
     "output_type": "stream",
     "text": [
      "<class 'pandas.core.frame.DataFrame'>\n",
      "Int64Index: 83047 entries, 34793 to 9313194\n",
      "Data columns (total 9 columns):\n",
      " #   Column          Non-Null Count  Dtype \n",
      "---  ------          --------------  ----- \n",
      " 0   tconst          83047 non-null  object\n",
      " 1   titleType       83047 non-null  object\n",
      " 2   primaryTitle    83047 non-null  object\n",
      " 3   originalTitle   83047 non-null  object\n",
      " 4   isAdult         83047 non-null  object\n",
      " 5   startYear       83047 non-null  object\n",
      " 6   endYear         0 non-null      object\n",
      " 7   runtimeMinutes  83047 non-null  object\n",
      " 8   genres          83047 non-null  object\n",
      "dtypes: object(9)\n",
      "memory usage: 6.3+ MB\n"
     ]
    }
   ],
   "source": [
    "basics.info()"
   ]
  },
  {
   "cell_type": "code",
   "execution_count": 31,
   "id": "8ceb9733",
   "metadata": {},
   "outputs": [
    {
     "name": "stdout",
     "output_type": "stream",
     "text": [
      "<class 'pandas.core.frame.DataFrame'>\n",
      "Int64Index: 472113 entries, 0 to 1238959\n",
      "Data columns (total 3 columns):\n",
      " #   Column         Non-Null Count   Dtype  \n",
      "---  ------         --------------   -----  \n",
      " 0   tconst         472113 non-null  object \n",
      " 1   averageRating  472113 non-null  float64\n",
      " 2   numVotes       472113 non-null  int64  \n",
      "dtypes: float64(1), int64(1), object(1)\n",
      "memory usage: 14.4+ MB\n"
     ]
    }
   ],
   "source": [
    "ratings.info()"
   ]
  },
  {
   "cell_type": "code",
   "execution_count": 32,
   "id": "6c971f3d",
   "metadata": {},
   "outputs": [],
   "source": [
    "basics.to_csv(\"Data/title_basics.csv.gz\", compression = 'gzip', index = False)\n",
    "akas.to_csv(\"Data/title_akas.csv.gz\", compression = 'gzip',index = False)\n",
    "ratings.to_csv(\"Data/title_ratings.csv.gz\", compression = 'gzip', index = False)"
   ]
  },
  {
   "cell_type": "code",
   "execution_count": 33,
   "id": "e33993b9",
   "metadata": {},
   "outputs": [],
   "source": [
    "basics = pd.read_csv(\"Data/title_basics.csv.gz\", low_memory = False)\n",
    "akas = pd.read_csv(\"Data/title_akas.csv.gz\", low_memory = False)\n",
    "ratings = pd.read_csv(\"Data/title_ratings.csv.gz\", low_memory = False)"
   ]
  }
 ],
 "metadata": {
  "kernelspec": {
   "display_name": "Python (dojo-env)",
   "language": "python",
   "name": "dojo-env"
  },
  "language_info": {
   "codemirror_mode": {
    "name": "ipython",
    "version": 3
   },
   "file_extension": ".py",
   "mimetype": "text/x-python",
   "name": "python",
   "nbconvert_exporter": "python",
   "pygments_lexer": "ipython3",
   "version": "3.8.13"
  },
  "toc": {
   "base_numbering": 1,
   "nav_menu": {},
   "number_sections": false,
   "sideBar": true,
   "skip_h1_title": false,
   "title_cell": "Table of Contents",
   "title_sidebar": "Contents",
   "toc_cell": false,
   "toc_position": {},
   "toc_section_display": true,
   "toc_window_display": false
  }
 },
 "nbformat": 4,
 "nbformat_minor": 5
}
