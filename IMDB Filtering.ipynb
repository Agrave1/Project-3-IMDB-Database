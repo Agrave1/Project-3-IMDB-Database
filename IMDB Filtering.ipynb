{
 "cells": [
  {
   "cell_type": "code",
   "execution_count": 1,
   "id": "957e0300",
   "metadata": {},
   "outputs": [],
   "source": [
    "import pandas as pd\n",
    "import numpy as np"
   ]
  },
  {
   "cell_type": "code",
   "execution_count": 2,
   "id": "a8c29352",
   "metadata": {},
   "outputs": [],
   "source": [
    "basics_url = \"https://datasets.imdbws.com/title.basics.tsv.gz\"\n",
    "akas_url = \"https://datasets.imdbws.com/title.akas.tsv.gz\"\n",
    "ratings_url = \"https://datasets.imdbws.com/title.ratings.tsv.gz\""
   ]
  },
  {
   "cell_type": "code",
   "execution_count": 3,
   "id": "eb7771b6",
   "metadata": {},
   "outputs": [],
   "source": [
    "basics = pd.read_csv(basics_url, sep = \"\\t\", low_memory = False)\n",
    "akas = pd.read_csv(akas_url, sep = \"\\t\", low_memory = False)\n",
    "ratings = pd.read_csv(ratings_url, sep = \"\\t\", low_memory = False)"
   ]
  },
  {
   "cell_type": "markdown",
   "id": "379ca522",
   "metadata": {},
   "source": [
    "# Akas Processing"
   ]
  },
  {
   "cell_type": "code",
   "execution_count": 4,
   "id": "64889633",
   "metadata": {},
   "outputs": [],
   "source": [
    "akas.replace({\"\\\\N\":np.nan}, inplace = True)"
   ]
  },
  {
   "cell_type": "code",
   "execution_count": 5,
   "id": "bf8917f2",
   "metadata": {},
   "outputs": [
    {
     "data": {
      "text/plain": [
       "titleId                   0\n",
       "ordering                  0\n",
       "title                     5\n",
       "region              1865119\n",
       "language            6295240\n",
       "types              33484260\n",
       "attributes         33484260\n",
       "isOriginalTitle        2187\n",
       "dtype: int64"
      ]
     },
     "execution_count": 5,
     "metadata": {},
     "output_type": "execute_result"
    }
   ],
   "source": [
    "akas.isna().sum()"
   ]
  },
  {
   "cell_type": "markdown",
   "id": "8e9154e7",
   "metadata": {},
   "source": [
    "# Basics Processing"
   ]
  },
  {
   "cell_type": "code",
   "execution_count": 6,
   "id": "63c56371",
   "metadata": {},
   "outputs": [],
   "source": [
    "basics.replace({\"\\\\N\":np.nan}, inplace = True)"
   ]
  },
  {
   "cell_type": "code",
   "execution_count": 7,
   "id": "8a8a95dd",
   "metadata": {},
   "outputs": [
    {
     "data": {
      "text/plain": [
       "tconst                  0\n",
       "titleType               0\n",
       "primaryTitle           11\n",
       "originalTitle          11\n",
       "isAdult                 1\n",
       "startYear         1242667\n",
       "endYear           9199706\n",
       "runtimeMinutes    6793333\n",
       "genres             428698\n",
       "dtype: int64"
      ]
     },
     "execution_count": 7,
     "metadata": {},
     "output_type": "execute_result"
    }
   ],
   "source": [
    "basics.isna().sum()"
   ]
  },
  {
   "cell_type": "code",
   "execution_count": 8,
   "id": "e308eb93",
   "metadata": {},
   "outputs": [],
   "source": [
    "basics.dropna(subset = [\"runtimeMinutes\", \"genres\"], inplace = True)"
   ]
  },
  {
   "cell_type": "code",
   "execution_count": 9,
   "id": "ea175f0e",
   "metadata": {},
   "outputs": [
    {
     "data": {
      "text/plain": [
       "movie    369706\n",
       "Name: titleType, dtype: int64"
      ]
     },
     "execution_count": 9,
     "metadata": {},
     "output_type": "execute_result"
    }
   ],
   "source": [
    "basics.query(\"titleType == 'movie'\", inplace = True)\n",
    "basics[\"titleType\"].value_counts()"
   ]
  },
  {
   "cell_type": "code",
   "execution_count": 10,
   "id": "74ae59a8",
   "metadata": {},
   "outputs": [
    {
     "data": {
      "text/plain": [
       "2017    14226\n",
       "2018    14162\n",
       "2016    13844\n",
       "2019    13829\n",
       "2015    13345\n",
       "2014    12995\n",
       "2013    12294\n",
       "2021    11825\n",
       "2012    11549\n",
       "2020    11292\n",
       "2011    10694\n",
       "2010    10131\n",
       "2022     9426\n",
       "2009     9287\n",
       "2008     8083\n",
       "2007     6890\n",
       "2006     6436\n",
       "2005     5772\n",
       "2004     5141\n",
       "2003     4536\n",
       "2002     4093\n",
       "2001     3819\n",
       "2000     3595\n",
       "Name: startYear, dtype: int64"
      ]
     },
     "execution_count": 10,
     "metadata": {},
     "output_type": "execute_result"
    }
   ],
   "source": [
    "basics.query(\"startYear >= '2000' & startYear <= '2022'\", inplace = True)\n",
    "basics[\"startYear\"].value_counts()"
   ]
  },
  {
   "cell_type": "code",
   "execution_count": 11,
   "id": "6b43682c",
   "metadata": {},
   "outputs": [],
   "source": [
    "is_documentary = basics[\"genres\"].str.contains(\"documentary\", case = False)\n",
    "basics = basics[~is_documentary]"
   ]
  },
  {
   "cell_type": "code",
   "execution_count": 12,
   "id": "f5304067",
   "metadata": {},
   "outputs": [
    {
     "data": {
      "text/plain": [
       "34792      True\n",
       "61094      True\n",
       "67640      True\n",
       "77934      True\n",
       "86770      True\n",
       "           ... \n",
       "9296737    True\n",
       "9296746    True\n",
       "9296785    True\n",
       "9296830    True\n",
       "9296914    True\n",
       "Name: tconst, Length: 143820, dtype: bool"
      ]
     },
     "execution_count": 12,
     "metadata": {},
     "output_type": "execute_result"
    }
   ],
   "source": [
    "keepers = basics[\"tconst\"].isin(akas[\"titleId\"])\n",
    "keepers"
   ]
  },
  {
   "cell_type": "code",
   "execution_count": 13,
   "id": "90fcd327",
   "metadata": {},
   "outputs": [],
   "source": [
    "basics = basics[keepers]"
   ]
  },
  {
   "cell_type": "markdown",
   "id": "12e43d7d",
   "metadata": {},
   "source": [
    "# Ratings Processing"
   ]
  },
  {
   "cell_type": "code",
   "execution_count": 14,
   "id": "e5969ebc",
   "metadata": {},
   "outputs": [],
   "source": [
    "ratings.replace({\"\\\\N\":np.nan}, inplace = True)"
   ]
  },
  {
   "cell_type": "code",
   "execution_count": 15,
   "id": "93d8ff05",
   "metadata": {},
   "outputs": [
    {
     "data": {
      "text/plain": [
       "tconst           0\n",
       "averageRating    0\n",
       "numVotes         0\n",
       "dtype: int64"
      ]
     },
     "execution_count": 15,
     "metadata": {},
     "output_type": "execute_result"
    }
   ],
   "source": [
    "ratings.isna().sum()"
   ]
  },
  {
   "cell_type": "code",
   "execution_count": 16,
   "id": "3535dad9",
   "metadata": {},
   "outputs": [
    {
     "data": {
      "text/plain": [
       "0           True\n",
       "1           True\n",
       "2           True\n",
       "3           True\n",
       "4           True\n",
       "           ...  \n",
       "1237935    False\n",
       "1237936     True\n",
       "1237937     True\n",
       "1237938     True\n",
       "1237939    False\n",
       "Name: tconst, Length: 1237940, dtype: bool"
      ]
     },
     "execution_count": 16,
     "metadata": {},
     "output_type": "execute_result"
    }
   ],
   "source": [
    "keepers2 = ratings[\"tconst\"].isin(akas[\"titleId\"])\n",
    "keepers2"
   ]
  },
  {
   "cell_type": "code",
   "execution_count": 17,
   "id": "cd827a47",
   "metadata": {},
   "outputs": [],
   "source": [
    "ratings = ratings[keepers2]"
   ]
  },
  {
   "cell_type": "code",
   "execution_count": 18,
   "id": "1c634ffa",
   "metadata": {},
   "outputs": [
    {
     "name": "stdout",
     "output_type": "stream",
     "text": [
      "<class 'pandas.core.frame.DataFrame'>\n",
      "RangeIndex: 33484260 entries, 0 to 33484259\n",
      "Data columns (total 8 columns):\n",
      " #   Column           Dtype  \n",
      "---  ------           -----  \n",
      " 0   titleId          object \n",
      " 1   ordering         int64  \n",
      " 2   title            object \n",
      " 3   region           object \n",
      " 4   language         object \n",
      " 5   types            float64\n",
      " 6   attributes       float64\n",
      " 7   isOriginalTitle  object \n",
      "dtypes: float64(2), int64(1), object(5)\n",
      "memory usage: 2.0+ GB\n"
     ]
    }
   ],
   "source": [
    "akas.info()"
   ]
  },
  {
   "cell_type": "code",
   "execution_count": 19,
   "id": "23f547e6",
   "metadata": {},
   "outputs": [
    {
     "name": "stdout",
     "output_type": "stream",
     "text": [
      "<class 'pandas.core.frame.DataFrame'>\n",
      "Int64Index: 143153 entries, 34792 to 9296914\n",
      "Data columns (total 9 columns):\n",
      " #   Column          Non-Null Count   Dtype \n",
      "---  ------          --------------   ----- \n",
      " 0   tconst          143153 non-null  object\n",
      " 1   titleType       143153 non-null  object\n",
      " 2   primaryTitle    143153 non-null  object\n",
      " 3   originalTitle   143153 non-null  object\n",
      " 4   isAdult         143153 non-null  object\n",
      " 5   startYear       143153 non-null  object\n",
      " 6   endYear         0 non-null       object\n",
      " 7   runtimeMinutes  143153 non-null  object\n",
      " 8   genres          143153 non-null  object\n",
      "dtypes: object(9)\n",
      "memory usage: 10.9+ MB\n"
     ]
    }
   ],
   "source": [
    "basics.info()"
   ]
  },
  {
   "cell_type": "code",
   "execution_count": 20,
   "id": "8ceb9733",
   "metadata": {},
   "outputs": [
    {
     "name": "stdout",
     "output_type": "stream",
     "text": [
      "<class 'pandas.core.frame.DataFrame'>\n",
      "Int64Index: 925098 entries, 0 to 1237938\n",
      "Data columns (total 3 columns):\n",
      " #   Column         Non-Null Count   Dtype  \n",
      "---  ------         --------------   -----  \n",
      " 0   tconst         925098 non-null  object \n",
      " 1   averageRating  925098 non-null  float64\n",
      " 2   numVotes       925098 non-null  int64  \n",
      "dtypes: float64(1), int64(1), object(1)\n",
      "memory usage: 28.2+ MB\n"
     ]
    }
   ],
   "source": [
    "ratings.info()"
   ]
  },
  {
   "cell_type": "code",
   "execution_count": null,
   "id": "0a5ef580",
   "metadata": {},
   "outputs": [],
   "source": []
  }
 ],
 "metadata": {
  "kernelspec": {
   "display_name": "Python (dojo-env)",
   "language": "python",
   "name": "dojo-env"
  },
  "language_info": {
   "codemirror_mode": {
    "name": "ipython",
    "version": 3
   },
   "file_extension": ".py",
   "mimetype": "text/x-python",
   "name": "python",
   "nbconvert_exporter": "python",
   "pygments_lexer": "ipython3",
   "version": "3.8.13"
  },
  "toc": {
   "base_numbering": 1,
   "nav_menu": {},
   "number_sections": false,
   "sideBar": true,
   "skip_h1_title": false,
   "title_cell": "Table of Contents",
   "title_sidebar": "Contents",
   "toc_cell": false,
   "toc_position": {},
   "toc_section_display": true,
   "toc_window_display": false
  }
 },
 "nbformat": 4,
 "nbformat_minor": 5
}
