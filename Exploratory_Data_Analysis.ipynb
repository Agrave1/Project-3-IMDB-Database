{
 "cells": [
  {
   "cell_type": "code",
   "execution_count": 1,
   "id": "b377308c",
   "metadata": {},
   "outputs": [],
   "source": [
    "import pandas as pd\n",
    "year0 = pd.read_csv(\"Data/final_tmdb_data_2000.csv.gz\", low_memory = False)\n",
    "year1 = pd.read_csv(\"Data/final_tmdb_data_2001.csv.gz\", low_memory = False)"
   ]
  },
  {
   "cell_type": "code",
   "execution_count": 2,
   "id": "9041e4cd",
   "metadata": {},
   "outputs": [
    {
     "name": "stdout",
     "output_type": "stream",
     "text": [
      "<class 'pandas.core.frame.DataFrame'>\n",
      "Int64Index: 2631 entries, 0 to 1423\n",
      "Data columns (total 26 columns):\n",
      " #   Column                 Non-Null Count  Dtype  \n",
      "---  ------                 --------------  -----  \n",
      " 0   imdb_id                2631 non-null   object \n",
      " 1   adult                  2629 non-null   float64\n",
      " 2   backdrop_path          1378 non-null   object \n",
      " 3   belongs_to_collection  202 non-null    object \n",
      " 4   budget                 2629 non-null   float64\n",
      " 5   genres                 2629 non-null   object \n",
      " 6   homepage               194 non-null    object \n",
      " 7   id                     2629 non-null   float64\n",
      " 8   original_language      2629 non-null   object \n",
      " 9   original_title         2629 non-null   object \n",
      " 10  overview               2578 non-null   object \n",
      " 11  popularity             2629 non-null   float64\n",
      " 12  poster_path            2328 non-null   object \n",
      " 13  production_companies   2629 non-null   object \n",
      " 14  production_countries   2629 non-null   object \n",
      " 15  release_date           2613 non-null   object \n",
      " 16  revenue                2629 non-null   float64\n",
      " 17  runtime                2629 non-null   float64\n",
      " 18  spoken_languages       2629 non-null   object \n",
      " 19  status                 2629 non-null   object \n",
      " 20  tagline                1127 non-null   object \n",
      " 21  title                  2629 non-null   object \n",
      " 22  video                  2629 non-null   float64\n",
      " 23  vote_average           2629 non-null   float64\n",
      " 24  vote_count             2629 non-null   float64\n",
      " 25  certification          870 non-null    object \n",
      "dtypes: float64(9), object(17)\n",
      "memory usage: 555.0+ KB\n"
     ]
    }
   ],
   "source": [
    "data = [year0, year1]\n",
    "combined_data = pd.concat(data)\n",
    "combined_data.info()"
   ]
  },
  {
   "cell_type": "markdown",
   "id": "caeaac22",
   "metadata": {},
   "source": [
    "# 1. Valid Financial Information"
   ]
  },
  {
   "cell_type": "code",
   "execution_count": 3,
   "id": "3b8105c5",
   "metadata": {},
   "outputs": [
    {
     "data": {
      "text/plain": [
       "(676, 26)"
      ]
     },
     "execution_count": 3,
     "metadata": {},
     "output_type": "execute_result"
    }
   ],
   "source": [
    "combined_data2 = combined_data[(combined_data.budget > 0) | \n",
    "                                (combined_data.revenue > 0)]\n",
    "combined_data2.shape"
   ]
  },
  {
   "cell_type": "markdown",
   "id": "397e8fb2",
   "metadata": {},
   "source": [
    "### 676 movies had some financial information"
   ]
  },
  {
   "cell_type": "markdown",
   "id": "de0c8a3f",
   "metadata": {},
   "source": [
    "# 2. How many movies in each certification categories"
   ]
  },
  {
   "cell_type": "code",
   "execution_count": 4,
   "id": "21547a04",
   "metadata": {},
   "outputs": [
    {
     "data": {
      "text/plain": [
       "R        250\n",
       "PG-13    147\n",
       "PG        41\n",
       "NR        17\n",
       "G         14\n",
       "Name: certification, dtype: int64"
      ]
     },
     "execution_count": 4,
     "metadata": {},
     "output_type": "execute_result"
    }
   ],
   "source": [
    "combined_data2[\"certification\"].value_counts()"
   ]
  },
  {
   "cell_type": "markdown",
   "id": "132caeb1",
   "metadata": {},
   "source": [
    "### 14 movies with G rating. 41 movies with PG rating. 147 movies with PG-13 rating. 250 movies with R rating "
   ]
  },
  {
   "cell_type": "markdown",
   "id": "96747f5a",
   "metadata": {},
   "source": [
    "# 3. Average revenue per certification category"
   ]
  },
  {
   "cell_type": "code",
   "execution_count": 5,
   "id": "8206d8cf",
   "metadata": {},
   "outputs": [
    {
     "name": "stdout",
     "output_type": "stream",
     "text": [
      "Average revenue for G rated movies: 123708547.43\n",
      "Average revenue for PG rated movies: 107284486.54\n",
      "Average revenue for PG-13 rated movies: 93643076.01\n",
      "Average revenue for R rated movies: 33236616.42\n"
     ]
    }
   ],
   "source": [
    "g_movies = combined_data2.loc[(combined_data2[\"certification\"] == \"G\")]\n",
    "print(f\"Average revenue for G rated movies: {g_movies.revenue.mean():.2f}\")\n",
    "pg_movies = combined_data2.loc[(combined_data2[\"certification\"] == \"PG\")]\n",
    "print(f\"Average revenue for PG rated movies: {pg_movies.revenue.mean():.2f}\")\n",
    "pg13_movies = combined_data2.loc[(combined_data2[\"certification\"] == \"PG-13\")]\n",
    "print(f\"Average revenue for PG-13 rated movies: {pg13_movies.revenue.mean():.2f}\")\n",
    "r_movies = combined_data2.loc[(combined_data2[\"certification\"] == \"R\")]\n",
    "print(f\"Average revenue for R rated movies: {r_movies.revenue.mean():.2f}\")"
   ]
  },
  {
   "cell_type": "markdown",
   "id": "6c83ef3a",
   "metadata": {},
   "source": [
    "# 4. Average budget per certification category"
   ]
  },
  {
   "cell_type": "code",
   "execution_count": 6,
   "id": "c280a998",
   "metadata": {},
   "outputs": [
    {
     "name": "stdout",
     "output_type": "stream",
     "text": [
      "Average budget for G rated movies: 40857142.86\n",
      "Average budget for PG rated movies: 44229268.51\n",
      "Average budget for PG-13 rated movies: 41482366.85\n",
      "Average budget for R rated movies: 20678017.80\n"
     ]
    }
   ],
   "source": [
    "print(f\"Average budget for G rated movies: {g_movies.budget.mean():.2f}\")\n",
    "print(f\"Average budget for PG rated movies: {pg_movies.budget.mean():.2f}\")\n",
    "print(f\"Average budget for PG-13 rated movies: {pg13_movies.budget.mean():.2f}\")\n",
    "print(f\"Average budget for R rated movies: {r_movies.budget.mean():.2f}\")"
   ]
  }
 ],
 "metadata": {
  "kernelspec": {
   "display_name": "Python (dojo-env)",
   "language": "python",
   "name": "dojo-env"
  },
  "language_info": {
   "codemirror_mode": {
    "name": "ipython",
    "version": 3
   },
   "file_extension": ".py",
   "mimetype": "text/x-python",
   "name": "python",
   "nbconvert_exporter": "python",
   "pygments_lexer": "ipython3",
   "version": "3.8.13"
  },
  "toc": {
   "base_numbering": 1,
   "nav_menu": {},
   "number_sections": false,
   "sideBar": true,
   "skip_h1_title": false,
   "title_cell": "Table of Contents",
   "title_sidebar": "Contents",
   "toc_cell": false,
   "toc_position": {},
   "toc_section_display": true,
   "toc_window_display": false
  }
 },
 "nbformat": 4,
 "nbformat_minor": 5
}
