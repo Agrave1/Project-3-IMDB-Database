{
 "cells": [
  {
   "cell_type": "code",
   "execution_count": 1,
   "id": "a0ad62cd",
   "metadata": {},
   "outputs": [],
   "source": [
    "import json\n",
    "import pandas as pd\n",
    "import numpy as np\n",
    "from scipy import stats\n",
    "import os\n",
    "import glob"
   ]
  },
  {
   "cell_type": "code",
   "execution_count": 2,
   "id": "c8584c27",
   "metadata": {},
   "outputs": [
    {
     "data": {
      "text/plain": [
       "['Data\\\\final_tmdb_data_2000.csv.gz',\n",
       " 'Data\\\\final_tmdb_data_2001.csv.gz',\n",
       " 'Data\\\\final_tmdb_data_2002.csv.gz',\n",
       " 'Data\\\\final_tmdb_data_2003.csv.gz',\n",
       " 'Data\\\\final_tmdb_data_2004.csv.gz',\n",
       " 'Data\\\\final_tmdb_data_2005.csv.gz',\n",
       " 'Data\\\\final_tmdb_data_2006.csv.gz',\n",
       " 'Data\\\\final_tmdb_data_2007.csv.gz',\n",
       " 'Data\\\\final_tmdb_data_2008.csv.gz',\n",
       " 'Data\\\\final_tmdb_data_2009.csv.gz',\n",
       " 'Data\\\\final_tmdb_data_2010.csv.gz']"
      ]
     },
     "execution_count": 2,
     "metadata": {},
     "output_type": "execute_result"
    }
   ],
   "source": [
    "q = \"Data/final*.csv.gz\"\n",
    "file_list = sorted(glob.glob(q))\n",
    "file_list"
   ]
  },
  {
   "cell_type": "code",
   "execution_count": 3,
   "id": "fef3b245",
   "metadata": {},
   "outputs": [
    {
     "name": "stdout",
     "output_type": "stream",
     "text": [
      "<class 'pandas.core.frame.DataFrame'>\n",
      "Index: 18940 entries, 0 to tt9164254\n",
      "Data columns (total 25 columns):\n",
      " #   Column                 Non-Null Count  Dtype  \n",
      "---  ------                 --------------  -----  \n",
      " 0   adult                  18929 non-null  float64\n",
      " 1   backdrop_path          10040 non-null  object \n",
      " 2   belongs_to_collection  1411 non-null   object \n",
      " 3   budget                 18929 non-null  float64\n",
      " 4   genres                 18929 non-null  object \n",
      " 5   homepage               3518 non-null   object \n",
      " 6   id                     18929 non-null  float64\n",
      " 7   original_language      18929 non-null  object \n",
      " 8   original_title         18929 non-null  object \n",
      " 9   overview               18464 non-null  object \n",
      " 10  popularity             18929 non-null  float64\n",
      " 11  poster_path            16375 non-null  object \n",
      " 12  production_companies   18929 non-null  object \n",
      " 13  production_countries   18929 non-null  object \n",
      " 14  release_date           18649 non-null  object \n",
      " 15  revenue                18929 non-null  float64\n",
      " 16  runtime                18929 non-null  float64\n",
      " 17  spoken_languages       18929 non-null  object \n",
      " 18  status                 18929 non-null  object \n",
      " 19  tagline                7844 non-null   object \n",
      " 20  title                  18929 non-null  object \n",
      " 21  video                  18929 non-null  float64\n",
      " 22  vote_average           18929 non-null  float64\n",
      " 23  vote_count             18929 non-null  float64\n",
      " 24  certification          5958 non-null   object \n",
      "dtypes: float64(9), object(16)\n",
      "memory usage: 3.8+ MB\n"
     ]
    }
   ],
   "source": [
    "df_list = []\n",
    "for file in file_list:\n",
    "    temp_df = pd.read_csv(file, index_col = 0)\n",
    "    df_list.append(temp_df)\n",
    "df_combined = pd.concat(df_list)\n",
    "df_combined.info()"
   ]
  },
  {
   "cell_type": "markdown",
   "id": "8eb2eb67",
   "metadata": {},
   "source": [
    "# Question 1:\n",
    "Does the MPAA rating of a movie affect how much revenue the movie generates?"
   ]
  },
  {
   "cell_type": "markdown",
   "id": "8d51064a",
   "metadata": {},
   "source": [
    "### \n",
    "Null Hypothesis: The MPAA rating does not affect how much revenue a movie generates.\n",
    "\n",
    "Alternative Hypothesis: The MPAA rating does affect how much revenue a movie generates."
   ]
  },
  {
   "cell_type": "code",
   "execution_count": 4,
   "id": "93dbb034",
   "metadata": {},
   "outputs": [
    {
     "data": {
      "text/html": [
       "<div>\n",
       "<style scoped>\n",
       "    .dataframe tbody tr th:only-of-type {\n",
       "        vertical-align: middle;\n",
       "    }\n",
       "\n",
       "    .dataframe tbody tr th {\n",
       "        vertical-align: top;\n",
       "    }\n",
       "\n",
       "    .dataframe thead th {\n",
       "        text-align: right;\n",
       "    }\n",
       "</style>\n",
       "<table border=\"1\" class=\"dataframe\">\n",
       "  <thead>\n",
       "    <tr style=\"text-align: right;\">\n",
       "      <th></th>\n",
       "      <th>revenue</th>\n",
       "      <th>budget</th>\n",
       "      <th>certification</th>\n",
       "    </tr>\n",
       "    <tr>\n",
       "      <th>imdb_id</th>\n",
       "      <th></th>\n",
       "      <th></th>\n",
       "      <th></th>\n",
       "    </tr>\n",
       "  </thead>\n",
       "  <tbody>\n",
       "    <tr>\n",
       "      <th>0</th>\n",
       "      <td>NaN</td>\n",
       "      <td>NaN</td>\n",
       "      <td>NaN</td>\n",
       "    </tr>\n",
       "    <tr>\n",
       "      <th>tt0113026</th>\n",
       "      <td>0.0</td>\n",
       "      <td>10000000.0</td>\n",
       "      <td>NaN</td>\n",
       "    </tr>\n",
       "    <tr>\n",
       "      <th>tt0113092</th>\n",
       "      <td>0.0</td>\n",
       "      <td>0.0</td>\n",
       "      <td>NaN</td>\n",
       "    </tr>\n",
       "    <tr>\n",
       "      <th>tt0116391</th>\n",
       "      <td>0.0</td>\n",
       "      <td>0.0</td>\n",
       "      <td>NaN</td>\n",
       "    </tr>\n",
       "    <tr>\n",
       "      <th>tt0118694</th>\n",
       "      <td>12854953.0</td>\n",
       "      <td>150000.0</td>\n",
       "      <td>PG</td>\n",
       "    </tr>\n",
       "    <tr>\n",
       "      <th>...</th>\n",
       "      <td>...</td>\n",
       "      <td>...</td>\n",
       "      <td>...</td>\n",
       "    </tr>\n",
       "    <tr>\n",
       "      <th>tt7657896</th>\n",
       "      <td>0.0</td>\n",
       "      <td>0.0</td>\n",
       "      <td>NaN</td>\n",
       "    </tr>\n",
       "    <tr>\n",
       "      <th>tt7851834</th>\n",
       "      <td>0.0</td>\n",
       "      <td>0.0</td>\n",
       "      <td>NaN</td>\n",
       "    </tr>\n",
       "    <tr>\n",
       "      <th>tt8090084</th>\n",
       "      <td>0.0</td>\n",
       "      <td>0.0</td>\n",
       "      <td>NaN</td>\n",
       "    </tr>\n",
       "    <tr>\n",
       "      <th>tt8160720</th>\n",
       "      <td>0.0</td>\n",
       "      <td>0.0</td>\n",
       "      <td>NaN</td>\n",
       "    </tr>\n",
       "    <tr>\n",
       "      <th>tt9164254</th>\n",
       "      <td>0.0</td>\n",
       "      <td>0.0</td>\n",
       "      <td>NC-17</td>\n",
       "    </tr>\n",
       "  </tbody>\n",
       "</table>\n",
       "<p>18940 rows × 3 columns</p>\n",
       "</div>"
      ],
      "text/plain": [
       "              revenue      budget certification\n",
       "imdb_id                                        \n",
       "0                 NaN         NaN           NaN\n",
       "tt0113026         0.0  10000000.0           NaN\n",
       "tt0113092         0.0         0.0           NaN\n",
       "tt0116391         0.0         0.0           NaN\n",
       "tt0118694  12854953.0    150000.0            PG\n",
       "...               ...         ...           ...\n",
       "tt7657896         0.0         0.0           NaN\n",
       "tt7851834         0.0         0.0           NaN\n",
       "tt8090084         0.0         0.0           NaN\n",
       "tt8160720         0.0         0.0           NaN\n",
       "tt9164254         0.0         0.0         NC-17\n",
       "\n",
       "[18940 rows x 3 columns]"
      ]
     },
     "execution_count": 4,
     "metadata": {},
     "output_type": "execute_result"
    }
   ],
   "source": [
    "#Remove unnecessary columns from a copy to not affect the original dataframe\n",
    "df_combined2 = df_combined.copy()\n",
    "df_combined2 = df_combined2[[\"revenue\", \"budget\", \"certification\"]]\n",
    "df_combined2"
   ]
  },
  {
   "cell_type": "code",
   "execution_count": 5,
   "id": "23132083",
   "metadata": {},
   "outputs": [
    {
     "name": "stdout",
     "output_type": "stream",
     "text": [
      "<class 'pandas.core.frame.DataFrame'>\n",
      "Index: 18940 entries, 0 to tt9164254\n",
      "Data columns (total 3 columns):\n",
      " #   Column         Non-Null Count  Dtype  \n",
      "---  ------         --------------  -----  \n",
      " 0   revenue        18929 non-null  float64\n",
      " 1   budget         18929 non-null  float64\n",
      " 2   certification  5958 non-null   object \n",
      "dtypes: float64(2), object(1)\n",
      "memory usage: 591.9+ KB\n"
     ]
    }
   ],
   "source": [
    "df_combined2.info()"
   ]
  },
  {
   "cell_type": "code",
   "execution_count": 6,
   "id": "e687542b",
   "metadata": {},
   "outputs": [
    {
     "data": {
      "text/plain": [
       "R        2888\n",
       "PG-13    1425\n",
       "PG        608\n",
       "G         157\n",
       "Name: certification, dtype: int64"
      ]
     },
     "execution_count": 6,
     "metadata": {},
     "output_type": "execute_result"
    }
   ],
   "source": [
    "#Only keep certification values with a G, PG, PG-13, or R rating\n",
    "df_combined2 = df_combined2.loc[(df_combined2[\"certification\"]==\"G\") | (df_combined2[\"certification\"] == \"PG\")\n",
    "            | (df_combined2[\"certification\"] == \"PG-13\") | (df_combined2[\"certification\"] == \"R\")]\n",
    "df_combined2[\"certification\"].value_counts()"
   ]
  },
  {
   "cell_type": "code",
   "execution_count": 7,
   "id": "87cef57f",
   "metadata": {},
   "outputs": [
    {
     "data": {
      "text/plain": [
       "dict_keys(['PG', 'R', 'G', 'PG-13'])"
      ]
     },
     "execution_count": 7,
     "metadata": {},
     "output_type": "execute_result"
    }
   ],
   "source": [
    "#Create ratings dictionary and save ratings as keys\n",
    "ratings = {}\n",
    "for i in df_combined2[\"certification\"].unique():\n",
    "    data = df_combined2.loc[df_combined2[\"certification\"] == i, \"revenue\"].copy()\n",
    "    ratings[i] = data\n",
    "ratings.keys()"
   ]
  },
  {
   "cell_type": "code",
   "execution_count": 8,
   "id": "0ccc3f25",
   "metadata": {},
   "outputs": [
    {
     "data": {
      "text/html": [
       "<div>\n",
       "<style scoped>\n",
       "    .dataframe tbody tr th:only-of-type {\n",
       "        vertical-align: middle;\n",
       "    }\n",
       "\n",
       "    .dataframe tbody tr th {\n",
       "        vertical-align: top;\n",
       "    }\n",
       "\n",
       "    .dataframe thead th {\n",
       "        text-align: right;\n",
       "    }\n",
       "</style>\n",
       "<table border=\"1\" class=\"dataframe\">\n",
       "  <thead>\n",
       "    <tr style=\"text-align: right;\">\n",
       "      <th></th>\n",
       "      <th>n</th>\n",
       "      <th>p</th>\n",
       "      <th>test stat</th>\n",
       "    </tr>\n",
       "  </thead>\n",
       "  <tbody>\n",
       "    <tr>\n",
       "      <th>PG</th>\n",
       "      <td>608.0</td>\n",
       "      <td>1.032377e-102</td>\n",
       "      <td>469.663630</td>\n",
       "    </tr>\n",
       "    <tr>\n",
       "      <th>R</th>\n",
       "      <td>2888.0</td>\n",
       "      <td>0.000000e+00</td>\n",
       "      <td>3299.270158</td>\n",
       "    </tr>\n",
       "    <tr>\n",
       "      <th>G</th>\n",
       "      <td>157.0</td>\n",
       "      <td>3.724314e-38</td>\n",
       "      <td>172.366702</td>\n",
       "    </tr>\n",
       "    <tr>\n",
       "      <th>PG-13</th>\n",
       "      <td>1425.0</td>\n",
       "      <td>0.000000e+00</td>\n",
       "      <td>1806.677496</td>\n",
       "    </tr>\n",
       "  </tbody>\n",
       "</table>\n",
       "</div>"
      ],
      "text/plain": [
       "            n              p    test stat\n",
       "PG      608.0  1.032377e-102   469.663630\n",
       "R      2888.0   0.000000e+00  3299.270158\n",
       "G       157.0   3.724314e-38   172.366702\n",
       "PG-13  1425.0   0.000000e+00  1806.677496"
      ]
     },
     "execution_count": 8,
     "metadata": {},
     "output_type": "execute_result"
    }
   ],
   "source": [
    "#Run normal test to confirm values > 20 for each group and convert to dataframe\n",
    "import scipy.stats as stats\n",
    "norm_results = {}\n",
    "for i, data in ratings.items():\n",
    "    stat, p = stats.normaltest(data)\n",
    "    norm_results[i] = {'n': len(data),\n",
    "                             'p':p,\n",
    "                             'test stat':stat,}\n",
    "norm_results_df = pd.DataFrame(norm_results).T\n",
    "norm_results_df"
   ]
  },
  {
   "cell_type": "code",
   "execution_count": 9,
   "id": "f52103c2",
   "metadata": {},
   "outputs": [
    {
     "data": {
      "text/html": [
       "<div>\n",
       "<style scoped>\n",
       "    .dataframe tbody tr th:only-of-type {\n",
       "        vertical-align: middle;\n",
       "    }\n",
       "\n",
       "    .dataframe tbody tr th {\n",
       "        vertical-align: top;\n",
       "    }\n",
       "\n",
       "    .dataframe thead th {\n",
       "        text-align: right;\n",
       "    }\n",
       "</style>\n",
       "<table border=\"1\" class=\"dataframe\">\n",
       "  <thead>\n",
       "    <tr style=\"text-align: right;\">\n",
       "      <th></th>\n",
       "      <th>n</th>\n",
       "      <th>p</th>\n",
       "      <th>test stat</th>\n",
       "      <th>sig</th>\n",
       "    </tr>\n",
       "  </thead>\n",
       "  <tbody>\n",
       "    <tr>\n",
       "      <th>PG</th>\n",
       "      <td>608.0</td>\n",
       "      <td>1.032377e-102</td>\n",
       "      <td>469.663630</td>\n",
       "      <td>True</td>\n",
       "    </tr>\n",
       "    <tr>\n",
       "      <th>R</th>\n",
       "      <td>2888.0</td>\n",
       "      <td>0.000000e+00</td>\n",
       "      <td>3299.270158</td>\n",
       "      <td>True</td>\n",
       "    </tr>\n",
       "    <tr>\n",
       "      <th>G</th>\n",
       "      <td>157.0</td>\n",
       "      <td>3.724314e-38</td>\n",
       "      <td>172.366702</td>\n",
       "      <td>True</td>\n",
       "    </tr>\n",
       "    <tr>\n",
       "      <th>PG-13</th>\n",
       "      <td>1425.0</td>\n",
       "      <td>0.000000e+00</td>\n",
       "      <td>1806.677496</td>\n",
       "      <td>True</td>\n",
       "    </tr>\n",
       "  </tbody>\n",
       "</table>\n",
       "</div>"
      ],
      "text/plain": [
       "            n              p    test stat   sig\n",
       "PG      608.0  1.032377e-102   469.663630  True\n",
       "R      2888.0   0.000000e+00  3299.270158  True\n",
       "G       157.0   3.724314e-38   172.366702  True\n",
       "PG-13  1425.0   0.000000e+00  1806.677496  True"
      ]
     },
     "execution_count": 9,
     "metadata": {},
     "output_type": "execute_result"
    }
   ],
   "source": [
    "#Checking significance with pandas \n",
    "#Groups large enough to ignore assumption of normality\n",
    "norm_results_df['sig'] = norm_results_df['p'] < .05 \n",
    "norm_results_df"
   ]
  },
  {
   "cell_type": "code",
   "execution_count": 10,
   "id": "fd6169c1",
   "metadata": {},
   "outputs": [
    {
     "data": {
      "text/plain": [
       "LeveneResult(statistic=97.56497972903125, pvalue=2.1488440163491345e-61)"
      ]
     },
     "execution_count": 10,
     "metadata": {},
     "output_type": "execute_result"
    }
   ],
   "source": [
    "#Testing assumption of equal variance\n",
    "#Assumption of variance not met\n",
    "stats.levene(*ratings.values())"
   ]
  },
  {
   "cell_type": "code",
   "execution_count": 11,
   "id": "961e7233",
   "metadata": {},
   "outputs": [
    {
     "data": {
      "text/plain": [
       "KruskalResult(statistic=361.85660288572683, pvalue=4.0386909724254373e-78)"
      ]
     },
     "execution_count": 11,
     "metadata": {},
     "output_type": "execute_result"
    }
   ],
   "source": [
    "#Use kruskal-wallis for nonparametric test\n",
    "stats.kruskal(*ratings.values())"
   ]
  },
  {
   "cell_type": "code",
   "execution_count": 12,
   "id": "b633155b",
   "metadata": {},
   "outputs": [
    {
     "data": {
      "text/html": [
       "<table class=\"simpletable\">\n",
       "<caption>Multiple Comparison of Means - Tukey HSD, FWER=0.05</caption>\n",
       "<tr>\n",
       "  <th>group1</th> <th>group2</th>    <th>meandiff</th>     <th>p-adj</th>      <th>lower</th>          <th>upper</th>     <th>reject</th>\n",
       "</tr>\n",
       "<tr>\n",
       "     <td>G</td>     <td>PG</td>    <td>5456961.0039</td>  <td>0.9447</td> <td>-19730357.9848</td>  <td>30644279.9926</td>  <td>False</td>\n",
       "</tr>\n",
       "<tr>\n",
       "     <td>G</td>    <td>PG-13</td>  <td>5087861.8397</td>  <td>0.9459</td> <td>-18571270.9534</td>  <td>28746994.6328</td>  <td>False</td>\n",
       "</tr>\n",
       "<tr>\n",
       "     <td>G</td>      <td>R</td>   <td>-48004456.7836</td>   <td>0.0</td>  <td>-71061205.6086</td> <td>-24947707.9585</td>  <td>True</td> \n",
       "</tr>\n",
       "<tr>\n",
       "    <td>PG</td>    <td>PG-13</td>  <td>-369099.1642</td>  <td>0.9999</td> <td>-13998046.3371</td>  <td>13259848.0086</td>  <td>False</td>\n",
       "</tr>\n",
       "<tr>\n",
       "    <td>PG</td>      <td>R</td>   <td>-53461417.7875</td>  <td>-0.0</td>  <td>-66015592.5074</td> <td>-40907243.0675</td>  <td>True</td> \n",
       "</tr>\n",
       "<tr>\n",
       "   <td>PG-13</td>    <td>R</td>   <td>-53092318.6233</td>  <td>-0.0</td>  <td>-62200602.1928</td> <td>-43984035.0537</td>  <td>True</td> \n",
       "</tr>\n",
       "</table>"
      ],
      "text/plain": [
       "<class 'statsmodels.iolib.table.SimpleTable'>"
      ]
     },
     "execution_count": 12,
     "metadata": {},
     "output_type": "execute_result"
    }
   ],
   "source": [
    "#P-value above indicated a significant difference\n",
    "#Run tukey's test to know which ratings are significantly different\n",
    "from statsmodels.stats.multicomp import pairwise_tukeyhsd\n",
    "values = df_combined2[\"revenue\"]\n",
    "labels = df_combined2[\"certification\"]\n",
    "tukeys_results = pairwise_tukeyhsd(values,labels)\n",
    "tukeys_results.summary()"
   ]
  },
  {
   "cell_type": "code",
   "execution_count": 13,
   "id": "655e7d85",
   "metadata": {},
   "outputs": [
    {
     "data": {
      "image/png": "[encoded data removed]",
      "text/plain": [
       "<Figure size 640x480 with 1 Axes>"
      ]
     },
     "metadata": {},
     "output_type": "display_data"
    }
   ],
   "source": [
    "import seaborn as sns\n",
    "import matplotlib.pyplot as plt\n",
    "def add_labels(x, y):\n",
    "    for i in range(len(x)):\n",
    "        plt.text(i, y[i], y[i], ha = \"center\")\n",
    "certification = df_combined2.groupby(\"certification\")[\"revenue\"].mean().round(2).reset_index()\n",
    "certification = certification.sort_values(by = \"certification\")\n",
    "sns.barplot(data = certification, x = \"certification\", y = \"revenue\")\n",
    "plt.title(\"Average Movie Revenue for Movie Rating\", fontsize = 15)\n",
    "plt.xlabel(\"Movie Rating\", fontsize = 12)\n",
    "plt.ylabel(\"Average Movie Revenue $\", fontsize = 12)\n",
    "add_labels(certification[\"certification\"], certification[\"revenue\"])\n",
    "plt.show()"
   ]
  },
  {
   "cell_type": "markdown",
   "id": "b36dc6a8",
   "metadata": {},
   "source": [
    "### There are three significant differences between ratings all with a p value of less than 0.05. G and R , PG and R, and PG-13 and R all have significant differences in revenue. R rated movies earn the least amount of revenue by a significant margin. The rating that earns the most revenue is PG."
   ]
  },
  {
   "cell_type": "markdown",
   "id": "d53a753f",
   "metadata": {},
   "source": [
    "# Question 2:\n",
    "Do movies that are part of a franchise earn more revenue than movies not in a franchise?"
   ]
  },
  {
   "cell_type": "markdown",
   "id": "091bb86a",
   "metadata": {},
   "source": [
    "### \n",
    "Null Hypothesis: There is no significant difference in revenue between movies that are part of a franchise and not part of a franchise.\n",
    "\n",
    "Alternative Hypothesis: There is a significant difference in revenue between movies that are part of a franchise and not part of a franchise."
   ]
  },
  {
   "cell_type": "code",
   "execution_count": 14,
   "id": "cc737de6",
   "metadata": {},
   "outputs": [
    {
     "data": {
      "text/html": [
       "<div>\n",
       "<style scoped>\n",
       "    .dataframe tbody tr th:only-of-type {\n",
       "        vertical-align: middle;\n",
       "    }\n",
       "\n",
       "    .dataframe tbody tr th {\n",
       "        vertical-align: top;\n",
       "    }\n",
       "\n",
       "    .dataframe thead th {\n",
       "        text-align: right;\n",
       "    }\n",
       "</style>\n",
       "<table border=\"1\" class=\"dataframe\">\n",
       "  <thead>\n",
       "    <tr style=\"text-align: right;\">\n",
       "      <th></th>\n",
       "      <th>adult</th>\n",
       "      <th>backdrop_path</th>\n",
       "      <th>belongs_to_collection</th>\n",
       "      <th>budget</th>\n",
       "      <th>genres</th>\n",
       "      <th>homepage</th>\n",
       "      <th>id</th>\n",
       "      <th>original_language</th>\n",
       "      <th>original_title</th>\n",
       "      <th>overview</th>\n",
       "      <th>...</th>\n",
       "      <th>revenue</th>\n",
       "      <th>runtime</th>\n",
       "      <th>spoken_languages</th>\n",
       "      <th>status</th>\n",
       "      <th>tagline</th>\n",
       "      <th>title</th>\n",
       "      <th>video</th>\n",
       "      <th>vote_average</th>\n",
       "      <th>vote_count</th>\n",
       "      <th>certification</th>\n",
       "    </tr>\n",
       "    <tr>\n",
       "      <th>imdb_id</th>\n",
       "      <th></th>\n",
       "      <th></th>\n",
       "      <th></th>\n",
       "      <th></th>\n",
       "      <th></th>\n",
       "      <th></th>\n",
       "      <th></th>\n",
       "      <th></th>\n",
       "      <th></th>\n",
       "      <th></th>\n",
       "      <th></th>\n",
       "      <th></th>\n",
       "      <th></th>\n",
       "      <th></th>\n",
       "      <th></th>\n",
       "      <th></th>\n",
       "      <th></th>\n",
       "      <th></th>\n",
       "      <th></th>\n",
       "      <th></th>\n",
       "      <th></th>\n",
       "    </tr>\n",
       "  </thead>\n",
       "  <tbody>\n",
       "    <tr>\n",
       "      <th>0</th>\n",
       "      <td>NaN</td>\n",
       "      <td>NaN</td>\n",
       "      <td>False</td>\n",
       "      <td>NaN</td>\n",
       "      <td>NaN</td>\n",
       "      <td>NaN</td>\n",
       "      <td>NaN</td>\n",
       "      <td>NaN</td>\n",
       "      <td>NaN</td>\n",
       "      <td>NaN</td>\n",
       "      <td>...</td>\n",
       "      <td>NaN</td>\n",
       "      <td>NaN</td>\n",
       "      <td>NaN</td>\n",
       "      <td>NaN</td>\n",
       "      <td>NaN</td>\n",
       "      <td>NaN</td>\n",
       "      <td>NaN</td>\n",
       "      <td>NaN</td>\n",
       "      <td>NaN</td>\n",
       "      <td>NaN</td>\n",
       "    </tr>\n",
       "    <tr>\n",
       "      <th>tt0113026</th>\n",
       "      <td>0.0</td>\n",
       "      <td>/vMFs7nw6P0bIV1jDsQpxAieAVnH.jpg</td>\n",
       "      <td>False</td>\n",
       "      <td>10000000.0</td>\n",
       "      <td>[{'id': 35, 'name': 'Comedy'}, {'id': 10402, '...</td>\n",
       "      <td>NaN</td>\n",
       "      <td>62127.0</td>\n",
       "      <td>en</td>\n",
       "      <td>The Fantasticks</td>\n",
       "      <td>Two rural teens sing and dance their way throu...</td>\n",
       "      <td>...</td>\n",
       "      <td>0.0</td>\n",
       "      <td>86.0</td>\n",
       "      <td>[{'english_name': 'English', 'iso_639_1': 'en'...</td>\n",
       "      <td>Released</td>\n",
       "      <td>Try to remember the first time magic happened</td>\n",
       "      <td>The Fantasticks</td>\n",
       "      <td>0.0</td>\n",
       "      <td>5.500</td>\n",
       "      <td>22.0</td>\n",
       "      <td>NaN</td>\n",
       "    </tr>\n",
       "    <tr>\n",
       "      <th>tt0113092</th>\n",
       "      <td>0.0</td>\n",
       "      <td>NaN</td>\n",
       "      <td>False</td>\n",
       "      <td>0.0</td>\n",
       "      <td>[{'id': 878, 'name': 'Science Fiction'}]</td>\n",
       "      <td>NaN</td>\n",
       "      <td>110977.0</td>\n",
       "      <td>en</td>\n",
       "      <td>For the Cause</td>\n",
       "      <td>Earth is in a state of constant war and two co...</td>\n",
       "      <td>...</td>\n",
       "      <td>0.0</td>\n",
       "      <td>100.0</td>\n",
       "      <td>[{'english_name': 'English', 'iso_639_1': 'en'...</td>\n",
       "      <td>Released</td>\n",
       "      <td>The ultimate showdown on a forbidden planet.</td>\n",
       "      <td>For the Cause</td>\n",
       "      <td>0.0</td>\n",
       "      <td>5.100</td>\n",
       "      <td>8.0</td>\n",
       "      <td>NaN</td>\n",
       "    </tr>\n",
       "    <tr>\n",
       "      <th>tt0116391</th>\n",
       "      <td>0.0</td>\n",
       "      <td>NaN</td>\n",
       "      <td>False</td>\n",
       "      <td>0.0</td>\n",
       "      <td>[{'id': 18, 'name': 'Drama'}, {'id': 28, 'name...</td>\n",
       "      <td>NaN</td>\n",
       "      <td>442869.0</td>\n",
       "      <td>hi</td>\n",
       "      <td>Gang</td>\n",
       "      <td>After falling prey to underworld, four friends...</td>\n",
       "      <td>...</td>\n",
       "      <td>0.0</td>\n",
       "      <td>152.0</td>\n",
       "      <td>[{'english_name': 'Hindi', 'iso_639_1': 'hi', ...</td>\n",
       "      <td>Released</td>\n",
       "      <td>NaN</td>\n",
       "      <td>Gang</td>\n",
       "      <td>0.0</td>\n",
       "      <td>4.000</td>\n",
       "      <td>1.0</td>\n",
       "      <td>NaN</td>\n",
       "    </tr>\n",
       "    <tr>\n",
       "      <th>tt0118694</th>\n",
       "      <td>0.0</td>\n",
       "      <td>/n4GJFGzsc7NinI1VeGDXIcQjtU2.jpg</td>\n",
       "      <td>False</td>\n",
       "      <td>150000.0</td>\n",
       "      <td>[{'id': 18, 'name': 'Drama'}, {'id': 10749, 'n...</td>\n",
       "      <td>http://www.wkw-inthemoodforlove.com/</td>\n",
       "      <td>843.0</td>\n",
       "      <td>cn</td>\n",
       "      <td>花樣年華</td>\n",
       "      <td>Hong Kong, 1962: Chow Mo-Wan and Su Li-Zhen mo...</td>\n",
       "      <td>...</td>\n",
       "      <td>12854953.0</td>\n",
       "      <td>99.0</td>\n",
       "      <td>[{'english_name': 'Cantonese', 'iso_639_1': 'c...</td>\n",
       "      <td>Released</td>\n",
       "      <td>Feel the heat, keep the feeling burning, let t...</td>\n",
       "      <td>In the Mood for Love</td>\n",
       "      <td>0.0</td>\n",
       "      <td>8.112</td>\n",
       "      <td>2009.0</td>\n",
       "      <td>PG</td>\n",
       "    </tr>\n",
       "  </tbody>\n",
       "</table>\n",
       "<p>5 rows × 25 columns</p>\n",
       "</div>"
      ],
      "text/plain": [
       "           adult                     backdrop_path  belongs_to_collection  \\\n",
       "imdb_id                                                                     \n",
       "0            NaN                               NaN                  False   \n",
       "tt0113026    0.0  /vMFs7nw6P0bIV1jDsQpxAieAVnH.jpg                  False   \n",
       "tt0113092    0.0                               NaN                  False   \n",
       "tt0116391    0.0                               NaN                  False   \n",
       "tt0118694    0.0  /n4GJFGzsc7NinI1VeGDXIcQjtU2.jpg                  False   \n",
       "\n",
       "               budget                                             genres  \\\n",
       "imdb_id                                                                    \n",
       "0                 NaN                                                NaN   \n",
       "tt0113026  10000000.0  [{'id': 35, 'name': 'Comedy'}, {'id': 10402, '...   \n",
       "tt0113092         0.0           [{'id': 878, 'name': 'Science Fiction'}]   \n",
       "tt0116391         0.0  [{'id': 18, 'name': 'Drama'}, {'id': 28, 'name...   \n",
       "tt0118694    150000.0  [{'id': 18, 'name': 'Drama'}, {'id': 10749, 'n...   \n",
       "\n",
       "                                       homepage        id original_language  \\\n",
       "imdb_id                                                                       \n",
       "0                                           NaN       NaN               NaN   \n",
       "tt0113026                                   NaN   62127.0                en   \n",
       "tt0113092                                   NaN  110977.0                en   \n",
       "tt0116391                                   NaN  442869.0                hi   \n",
       "tt0118694  http://www.wkw-inthemoodforlove.com/     843.0                cn   \n",
       "\n",
       "            original_title                                           overview  \\\n",
       "imdb_id                                                                         \n",
       "0                      NaN                                                NaN   \n",
       "tt0113026  The Fantasticks  Two rural teens sing and dance their way throu...   \n",
       "tt0113092    For the Cause  Earth is in a state of constant war and two co...   \n",
       "tt0116391             Gang  After falling prey to underworld, four friends...   \n",
       "tt0118694             花樣年華  Hong Kong, 1962: Chow Mo-Wan and Su Li-Zhen mo...   \n",
       "\n",
       "           ...     revenue runtime  \\\n",
       "imdb_id    ...                       \n",
       "0          ...         NaN     NaN   \n",
       "tt0113026  ...         0.0    86.0   \n",
       "tt0113092  ...         0.0   100.0   \n",
       "tt0116391  ...         0.0   152.0   \n",
       "tt0118694  ...  12854953.0    99.0   \n",
       "\n",
       "                                            spoken_languages    status  \\\n",
       "imdb_id                                                                  \n",
       "0                                                        NaN       NaN   \n",
       "tt0113026  [{'english_name': 'English', 'iso_639_1': 'en'...  Released   \n",
       "tt0113092  [{'english_name': 'English', 'iso_639_1': 'en'...  Released   \n",
       "tt0116391  [{'english_name': 'Hindi', 'iso_639_1': 'hi', ...  Released   \n",
       "tt0118694  [{'english_name': 'Cantonese', 'iso_639_1': 'c...  Released   \n",
       "\n",
       "                                                     tagline  \\\n",
       "imdb_id                                                        \n",
       "0                                                        NaN   \n",
       "tt0113026      Try to remember the first time magic happened   \n",
       "tt0113092       The ultimate showdown on a forbidden planet.   \n",
       "tt0116391                                                NaN   \n",
       "tt0118694  Feel the heat, keep the feeling burning, let t...   \n",
       "\n",
       "                          title  video vote_average vote_count certification  \n",
       "imdb_id                                                                       \n",
       "0                           NaN    NaN          NaN        NaN           NaN  \n",
       "tt0113026       The Fantasticks    0.0        5.500       22.0           NaN  \n",
       "tt0113092         For the Cause    0.0        5.100        8.0           NaN  \n",
       "tt0116391                  Gang    0.0        4.000        1.0           NaN  \n",
       "tt0118694  In the Mood for Love    0.0        8.112     2009.0            PG  \n",
       "\n",
       "[5 rows x 25 columns]"
      ]
     },
     "execution_count": 14,
     "metadata": {},
     "output_type": "execute_result"
    }
   ],
   "source": [
    "#Seperate movies that are part of a franchise from movies not part of a franchise\n",
    "df_combined3 = df_combined.copy()\n",
    "df_combined3[\"belongs_to_collection\"] = df_combined3[\"belongs_to_collection\"].notna()\n",
    "df_combined3.head()"
   ]
  },
  {
   "cell_type": "code",
   "execution_count": 15,
   "id": "5901ffbe",
   "metadata": {},
   "outputs": [],
   "source": [
    "franchise = df_combined3.loc[df_combined3[\"belongs_to_collection\"] == True].copy()\n",
    "not_franchise = df_combined3.loc[df_combined3[\"belongs_to_collection\"] == False].copy()\n",
    "franchise_revenue = franchise[\"revenue\"]\n",
    "non_franchise_revenue = not_franchise[\"revenue\"]"
   ]
  },
  {
   "cell_type": "code",
   "execution_count": 16,
   "id": "56223adc",
   "metadata": {},
   "outputs": [
    {
     "name": "stdout",
     "output_type": "stream",
     "text": [
      "<class 'pandas.core.series.Series'>\n",
      "Index: 17518 entries, tt0113026 to tt9164254\n",
      "Series name: revenue\n",
      "Non-Null Count  Dtype  \n",
      "--------------  -----  \n",
      "17518 non-null  float64\n",
      "dtypes: float64(1)\n",
      "memory usage: 273.7+ KB\n"
     ]
    }
   ],
   "source": [
    "#Drop missing values\n",
    "non_franchise_revenue.dropna(inplace = True)\n",
    "non_franchise_revenue.info()"
   ]
  },
  {
   "cell_type": "code",
   "execution_count": 17,
   "id": "03f2af72",
   "metadata": {},
   "outputs": [
    {
     "data": {
      "text/plain": [
       "40"
      ]
     },
     "execution_count": 17,
     "metadata": {},
     "output_type": "execute_result"
    }
   ],
   "source": [
    "#Checking for outiers in data\n",
    "zscores = stats.zscore(franchise_revenue)\n",
    "outliers = abs(zscores) > 3\n",
    "np.sum(outliers)"
   ]
  },
  {
   "cell_type": "code",
   "execution_count": 18,
   "id": "896f9e6b",
   "metadata": {},
   "outputs": [],
   "source": [
    "#Remove outliers from data\n",
    "franchise_revenue = franchise_revenue[(np.abs(stats.zscore(franchise_revenue) < 3))]"
   ]
  },
  {
   "cell_type": "code",
   "execution_count": 19,
   "id": "275e9b0b",
   "metadata": {},
   "outputs": [
    {
     "data": {
      "text/plain": [
       "303"
      ]
     },
     "execution_count": 19,
     "metadata": {},
     "output_type": "execute_result"
    }
   ],
   "source": [
    "#Checking for outiers in data\n",
    "zscores = stats.zscore(non_franchise_revenue)\n",
    "outliers = abs(zscores) > 3\n",
    "np.sum(outliers)"
   ]
  },
  {
   "cell_type": "code",
   "execution_count": 20,
   "id": "755a7996",
   "metadata": {},
   "outputs": [],
   "source": [
    "#Remove outliers from data\n",
    "non_franchise_revenue = non_franchise_revenue[(np.abs(stats.zscore(non_franchise_revenue) < 3))]"
   ]
  },
  {
   "cell_type": "code",
   "execution_count": 21,
   "id": "f20a369c",
   "metadata": {},
   "outputs": [
    {
     "name": "stdout",
     "output_type": "stream",
     "text": [
      "NormaltestResult(statistic=846.7425135923305, pvalue=1.3558116988750227e-184) NormaltestResult(statistic=18509.94069835349, pvalue=0.0)\n"
     ]
    }
   ],
   "source": [
    "#Test the both groups for normality\n",
    "#Both groups large enough to ignore lack of normal distribution\n",
    "result_franchise_revenue = stats.normaltest(franchise_revenue)\n",
    "result_non_franchise_revenue = stats.normaltest(non_franchise_revenue)\n",
    "print(result_franchise_revenue, result_non_franchise_revenue)"
   ]
  },
  {
   "cell_type": "code",
   "execution_count": 22,
   "id": "9aa095a2",
   "metadata": {},
   "outputs": [
    {
     "data": {
      "text/plain": [
       "LeveneResult(statistic=2853.4607228543136, pvalue=0.0)"
      ]
     },
     "execution_count": 22,
     "metadata": {},
     "output_type": "execute_result"
    }
   ],
   "source": [
    "#Check for equal variance\n",
    "#Not equal variance include equal var = False\n",
    "stats.levene(franchise_revenue, non_franchise_revenue)"
   ]
  },
  {
   "cell_type": "code",
   "execution_count": 23,
   "id": "760a807b",
   "metadata": {},
   "outputs": [
    {
     "data": {
      "text/plain": [
       "Ttest_indResult(statistic=16.181494831641672, pvalue=4.8982611363256514e-54)"
      ]
     },
     "execution_count": 23,
     "metadata": {},
     "output_type": "execute_result"
    }
   ],
   "source": [
    "#Independent t-test with equal_var set to False\n",
    "stats.ttest_ind(franchise_revenue, non_franchise_revenue, equal_var = False)"
   ]
  },
  {
   "cell_type": "markdown",
   "id": "6b17d27b",
   "metadata": {},
   "source": [
    "### The p value is less than .05, so we reject the null hypothesis and accept there is a significant difference in revenue between movies that are and are not part of franchises."
   ]
  },
  {
   "cell_type": "code",
   "execution_count": 24,
   "id": "7b4c7eb2",
   "metadata": {},
   "outputs": [
    {
     "data": {
      "image/png": "[encoded data removed]",
      "text/plain": [
       "<Figure size 640x480 with 1 Axes>"
      ]
     },
     "metadata": {},
     "output_type": "display_data"
    }
   ],
   "source": [
    "franchise = df_combined3.groupby(\"belongs_to_collection\")[\"revenue\"].mean().round(2).reset_index()\n",
    "franchise = franchise.sort_values(by = \"belongs_to_collection\")\n",
    "sns.barplot(data = franchise, x = \"belongs_to_collection\", y = \"revenue\")\n",
    "plt.title(\"Average Movie Revenue for Franchises Vs. Non-Franchises\", fontsize = 15, y = 1.05)\n",
    "plt.xlabel(\"Belongs to Franchise\", fontsize = 12)\n",
    "plt.ylabel(\"Average Movie Revenue $\", fontsize = 12)\n",
    "add_labels(franchise[\"belongs_to_collection\"], franchise[\"revenue\"])\n",
    "plt.show()"
   ]
  },
  {
   "cell_type": "markdown",
   "id": "de9bf235",
   "metadata": {},
   "source": [
    "# Question 3:\n",
    "Do movies over 2.5 hours earn more revenue than movies shorter than 1.5 hours?"
   ]
  },
  {
   "cell_type": "markdown",
   "id": "2760e67f",
   "metadata": {},
   "source": [
    "### \n",
    "Null Hypothesis: There is no significant difference in revenue between movies with a runtime of over 2.5 hours or less than 1.5 hours.\n",
    "\n",
    "Alternative Hypothesis: There is a significant difference in revenue between movies with a runtime of over 2.5 hours or less than 1.5 hours."
   ]
  },
  {
   "cell_type": "code",
   "execution_count": 25,
   "id": "1f3024e0",
   "metadata": {},
   "outputs": [
    {
     "data": {
      "text/html": [
       "<div>\n",
       "<style scoped>\n",
       "    .dataframe tbody tr th:only-of-type {\n",
       "        vertical-align: middle;\n",
       "    }\n",
       "\n",
       "    .dataframe tbody tr th {\n",
       "        vertical-align: top;\n",
       "    }\n",
       "\n",
       "    .dataframe thead th {\n",
       "        text-align: right;\n",
       "    }\n",
       "</style>\n",
       "<table border=\"1\" class=\"dataframe\">\n",
       "  <thead>\n",
       "    <tr style=\"text-align: right;\">\n",
       "      <th></th>\n",
       "      <th>revenue</th>\n",
       "      <th>budget</th>\n",
       "      <th>runtime</th>\n",
       "    </tr>\n",
       "    <tr>\n",
       "      <th>imdb_id</th>\n",
       "      <th></th>\n",
       "      <th></th>\n",
       "      <th></th>\n",
       "    </tr>\n",
       "  </thead>\n",
       "  <tbody>\n",
       "    <tr>\n",
       "      <th>0</th>\n",
       "      <td>NaN</td>\n",
       "      <td>NaN</td>\n",
       "      <td>NaN</td>\n",
       "    </tr>\n",
       "    <tr>\n",
       "      <th>tt0113026</th>\n",
       "      <td>0.0</td>\n",
       "      <td>10000000.0</td>\n",
       "      <td>86.0</td>\n",
       "    </tr>\n",
       "    <tr>\n",
       "      <th>tt0113092</th>\n",
       "      <td>0.0</td>\n",
       "      <td>0.0</td>\n",
       "      <td>100.0</td>\n",
       "    </tr>\n",
       "    <tr>\n",
       "      <th>tt0116391</th>\n",
       "      <td>0.0</td>\n",
       "      <td>0.0</td>\n",
       "      <td>152.0</td>\n",
       "    </tr>\n",
       "    <tr>\n",
       "      <th>tt0118694</th>\n",
       "      <td>12854953.0</td>\n",
       "      <td>150000.0</td>\n",
       "      <td>99.0</td>\n",
       "    </tr>\n",
       "    <tr>\n",
       "      <th>...</th>\n",
       "      <td>...</td>\n",
       "      <td>...</td>\n",
       "      <td>...</td>\n",
       "    </tr>\n",
       "    <tr>\n",
       "      <th>tt7657896</th>\n",
       "      <td>0.0</td>\n",
       "      <td>0.0</td>\n",
       "      <td>81.0</td>\n",
       "    </tr>\n",
       "    <tr>\n",
       "      <th>tt7851834</th>\n",
       "      <td>0.0</td>\n",
       "      <td>0.0</td>\n",
       "      <td>88.0</td>\n",
       "    </tr>\n",
       "    <tr>\n",
       "      <th>tt8090084</th>\n",
       "      <td>0.0</td>\n",
       "      <td>0.0</td>\n",
       "      <td>46.0</td>\n",
       "    </tr>\n",
       "    <tr>\n",
       "      <th>tt8160720</th>\n",
       "      <td>0.0</td>\n",
       "      <td>0.0</td>\n",
       "      <td>65.0</td>\n",
       "    </tr>\n",
       "    <tr>\n",
       "      <th>tt9164254</th>\n",
       "      <td>0.0</td>\n",
       "      <td>0.0</td>\n",
       "      <td>103.0</td>\n",
       "    </tr>\n",
       "  </tbody>\n",
       "</table>\n",
       "<p>18940 rows × 3 columns</p>\n",
       "</div>"
      ],
      "text/plain": [
       "              revenue      budget  runtime\n",
       "imdb_id                                   \n",
       "0                 NaN         NaN      NaN\n",
       "tt0113026         0.0  10000000.0     86.0\n",
       "tt0113092         0.0         0.0    100.0\n",
       "tt0116391         0.0         0.0    152.0\n",
       "tt0118694  12854953.0    150000.0     99.0\n",
       "...               ...         ...      ...\n",
       "tt7657896         0.0         0.0     81.0\n",
       "tt7851834         0.0         0.0     88.0\n",
       "tt8090084         0.0         0.0     46.0\n",
       "tt8160720         0.0         0.0     65.0\n",
       "tt9164254         0.0         0.0    103.0\n",
       "\n",
       "[18940 rows x 3 columns]"
      ]
     },
     "execution_count": 25,
     "metadata": {},
     "output_type": "execute_result"
    }
   ],
   "source": [
    "df_combined4 = df_combined.copy()\n",
    "df_combined4 = df_combined4[[\"revenue\", \"budget\", \"runtime\"]]\n",
    "df_combined4"
   ]
  },
  {
   "cell_type": "code",
   "execution_count": 26,
   "id": "f49c6ea8",
   "metadata": {},
   "outputs": [],
   "source": [
    "#Drop missing values\n",
    "df_combined4.dropna(inplace = True)"
   ]
  },
  {
   "cell_type": "code",
   "execution_count": 27,
   "id": "1fb55f2c",
   "metadata": {},
   "outputs": [],
   "source": [
    "long_movies = df_combined4.loc[df_combined4[\"runtime\"] >= 150].copy()\n",
    "short_movies = df_combined4.loc[df_combined4[\"runtime\"] <= 90].copy()\n",
    "long_movie_revenue = long_movies[\"revenue\"]\n",
    "short_movie_revenue = short_movies[\"revenue\"]"
   ]
  },
  {
   "cell_type": "code",
   "execution_count": 28,
   "id": "68a6bbee",
   "metadata": {},
   "outputs": [
    {
     "data": {
      "text/plain": [
       "12"
      ]
     },
     "execution_count": 28,
     "metadata": {},
     "output_type": "execute_result"
    }
   ],
   "source": [
    "#Checking for outiers in data\n",
    "zscores = stats.zscore(long_movie_revenue)\n",
    "outliers = abs(zscores) > 3\n",
    "np.sum(outliers)"
   ]
  },
  {
   "cell_type": "code",
   "execution_count": 29,
   "id": "418494b9",
   "metadata": {},
   "outputs": [],
   "source": [
    "#Remove outliers from data\n",
    "long_movie_revenue = long_movie_revenue[(np.abs(stats.zscore(long_movie_revenue) < 3))]"
   ]
  },
  {
   "cell_type": "code",
   "execution_count": 30,
   "id": "a8127614",
   "metadata": {},
   "outputs": [
    {
     "data": {
      "text/plain": [
       "88"
      ]
     },
     "execution_count": 30,
     "metadata": {},
     "output_type": "execute_result"
    }
   ],
   "source": [
    "#Checking for outiers in data\n",
    "zscores = stats.zscore(short_movie_revenue)\n",
    "outliers = abs(zscores) > 3\n",
    "np.sum(outliers)"
   ]
  },
  {
   "cell_type": "code",
   "execution_count": 31,
   "id": "23155aec",
   "metadata": {},
   "outputs": [],
   "source": [
    "#Remove outliers from data\n",
    "short_movie_revenue = short_movie_revenue[(np.abs(stats.zscore(short_movie_revenue) < 3))]"
   ]
  },
  {
   "cell_type": "code",
   "execution_count": 32,
   "id": "d7c762f8",
   "metadata": {},
   "outputs": [
    {
     "name": "stdout",
     "output_type": "stream",
     "text": [
      "NormaltestResult(statistic=360.8105782057273, pvalue=4.476910749240271e-79) NormaltestResult(statistic=11021.689105442474, pvalue=0.0)\n"
     ]
    }
   ],
   "source": [
    "#Test the both groups for normality\n",
    "#Both groups large enough to ignore lack of normal distribution\n",
    "result_long_movie_revenue = stats.normaltest(long_movie_revenue)\n",
    "result_short_movie_revenue = stats.normaltest(short_movie_revenue)\n",
    "print(result_long_movie_revenue, result_short_movie_revenue)"
   ]
  },
  {
   "cell_type": "code",
   "execution_count": 33,
   "id": "c3191350",
   "metadata": {},
   "outputs": [
    {
     "data": {
      "text/plain": [
       "LeveneResult(statistic=561.296456446577, pvalue=4.795662670698461e-120)"
      ]
     },
     "execution_count": 33,
     "metadata": {},
     "output_type": "execute_result"
    }
   ],
   "source": [
    "#Check for equal variance\n",
    "#Not equal variance include equal var = False\n",
    "stats.levene(long_movie_revenue, short_movie_revenue)"
   ]
  },
  {
   "cell_type": "code",
   "execution_count": 34,
   "id": "6c12934b",
   "metadata": {},
   "outputs": [
    {
     "data": {
      "text/plain": [
       "Ttest_indResult(statistic=5.387459219951976, pvalue=1.3057779576274622e-07)"
      ]
     },
     "execution_count": 34,
     "metadata": {},
     "output_type": "execute_result"
    }
   ],
   "source": [
    "#Independent t-test with equal_var set to False\n",
    "stats.ttest_ind(long_movie_revenue, short_movie_revenue, equal_var = False)"
   ]
  },
  {
   "cell_type": "markdown",
   "id": "e9ff7aca",
   "metadata": {},
   "source": [
    "### The p value is less than .05 so we reject the null hypothesis and accept that there is a significant difference in revenue between movie longer than 2.5 hours and shorter than 1.5 hours."
   ]
  },
  {
   "cell_type": "code",
   "execution_count": 35,
   "id": "a76b753c",
   "metadata": {},
   "outputs": [
    {
     "name": "stderr",
     "output_type": "stream",
     "text": [
      "C:\\Users\\Antho\\AppData\\Local\\Temp\\ipykernel_17328\\1713657732.py:4: SettingWithCopyWarning: \n",
      "A value is trying to be set on a copy of a slice from a DataFrame.\n",
      "Try using .loc[row_indexer,col_indexer] = value instead\n",
      "\n",
      "See the caveats in the documentation: https://pandas.pydata.org/pandas-docs/stable/user_guide/indexing.html#returning-a-view-versus-a-copy\n",
      "  runtime_movies[\"runtime\"] = runtime_movies[\"runtime\"].replace(i, \"Under 1.5 Hours\")\n",
      "C:\\Users\\Antho\\AppData\\Local\\Temp\\ipykernel_17328\\1713657732.py:6: SettingWithCopyWarning: \n",
      "A value is trying to be set on a copy of a slice from a DataFrame.\n",
      "Try using .loc[row_indexer,col_indexer] = value instead\n",
      "\n",
      "See the caveats in the documentation: https://pandas.pydata.org/pandas-docs/stable/user_guide/indexing.html#returning-a-view-versus-a-copy\n",
      "  runtime_movies[\"runtime\"] = runtime_movies[\"runtime\"].replace(i, \"Over 2.5 Hours\")\n"
     ]
    },
    {
     "data": {
      "text/html": [
       "<div>\n",
       "<style scoped>\n",
       "    .dataframe tbody tr th:only-of-type {\n",
       "        vertical-align: middle;\n",
       "    }\n",
       "\n",
       "    .dataframe tbody tr th {\n",
       "        vertical-align: top;\n",
       "    }\n",
       "\n",
       "    .dataframe thead th {\n",
       "        text-align: right;\n",
       "    }\n",
       "</style>\n",
       "<table border=\"1\" class=\"dataframe\">\n",
       "  <thead>\n",
       "    <tr style=\"text-align: right;\">\n",
       "      <th></th>\n",
       "      <th>revenue</th>\n",
       "      <th>budget</th>\n",
       "      <th>runtime</th>\n",
       "    </tr>\n",
       "    <tr>\n",
       "      <th>imdb_id</th>\n",
       "      <th></th>\n",
       "      <th></th>\n",
       "      <th></th>\n",
       "    </tr>\n",
       "  </thead>\n",
       "  <tbody>\n",
       "    <tr>\n",
       "      <th>tt0113026</th>\n",
       "      <td>0.0</td>\n",
       "      <td>10000000.0</td>\n",
       "      <td>Under 1.5 Hours</td>\n",
       "    </tr>\n",
       "    <tr>\n",
       "      <th>tt0116391</th>\n",
       "      <td>0.0</td>\n",
       "      <td>0.0</td>\n",
       "      <td>Over 2.5 Hours</td>\n",
       "    </tr>\n",
       "    <tr>\n",
       "      <th>tt0119273</th>\n",
       "      <td>0.0</td>\n",
       "      <td>15000000.0</td>\n",
       "      <td>Under 1.5 Hours</td>\n",
       "    </tr>\n",
       "    <tr>\n",
       "      <th>tt0119495</th>\n",
       "      <td>0.0</td>\n",
       "      <td>0.0</td>\n",
       "      <td>Under 1.5 Hours</td>\n",
       "    </tr>\n",
       "    <tr>\n",
       "      <th>tt0120467</th>\n",
       "      <td>14904.0</td>\n",
       "      <td>120000.0</td>\n",
       "      <td>Under 1.5 Hours</td>\n",
       "    </tr>\n",
       "  </tbody>\n",
       "</table>\n",
       "</div>"
      ],
      "text/plain": [
       "           revenue      budget          runtime\n",
       "imdb_id                                        \n",
       "tt0113026      0.0  10000000.0  Under 1.5 Hours\n",
       "tt0116391      0.0         0.0   Over 2.5 Hours\n",
       "tt0119273      0.0  15000000.0  Under 1.5 Hours\n",
       "tt0119495      0.0         0.0  Under 1.5 Hours\n",
       "tt0120467  14904.0    120000.0  Under 1.5 Hours"
      ]
     },
     "execution_count": 35,
     "metadata": {},
     "output_type": "execute_result"
    }
   ],
   "source": [
    "runtime_movies = df_combined4.loc[(df_combined4[\"runtime\"] >= 150) | (df_combined4[\"runtime\"] <= 90)]\n",
    "for i in runtime_movies[\"runtime\"]:\n",
    "    if i <= 90:\n",
    "        runtime_movies[\"runtime\"] = runtime_movies[\"runtime\"].replace(i, \"Under 1.5 Hours\")\n",
    "    else:\n",
    "        runtime_movies[\"runtime\"] = runtime_movies[\"runtime\"].replace(i, \"Over 2.5 Hours\")\n",
    "runtime_movies.head()"
   ]
  },
  {
   "cell_type": "code",
   "execution_count": 36,
   "id": "b440cc72",
   "metadata": {},
   "outputs": [
    {
     "data": {
      "image/png": "[encoded data removed]",
      "text/plain": [
       "<Figure size 640x480 with 1 Axes>"
      ]
     },
     "metadata": {},
     "output_type": "display_data"
    }
   ],
   "source": [
    "runtime = runtime_movies.groupby(\"runtime\")[\"revenue\"].mean().round(2).reset_index()\n",
    "runtime = runtime.sort_values(by = \"runtime\")\n",
    "sns.barplot(data = runtime, x = \"runtime\", y = \"revenue\")\n",
    "plt.title(\"Average Movie Revenue for Long Vs. Short Movies\", fontsize = 15, y = 1.05)\n",
    "plt.xlabel(\"Movie Length\", fontsize = 12)\n",
    "plt.ylabel(\"Average Movie Revenue $\", fontsize = 12)\n",
    "add_labels(runtime[\"runtime\"], runtime[\"revenue\"])\n",
    "plt.show()"
   ]
  }
 ],
 "metadata": {
  "kernelspec": {
   "display_name": "Python (dojo-env)",
   "language": "python",
   "name": "dojo-env"
  },
  "language_info": {
   "codemirror_mode": {
    "name": "ipython",
    "version": 3
   },
   "file_extension": ".py",
   "mimetype": "text/x-python",
   "name": "python",
   "nbconvert_exporter": "python",
   "pygments_lexer": "ipython3",
   "version": "3.8.13"
  },
  "toc": {
   "base_numbering": 1,
   "nav_menu": {},
   "number_sections": false,
   "sideBar": true,
   "skip_h1_title": false,
   "title_cell": "Table of Contents",
   "title_sidebar": "Contents",
   "toc_cell": false,
   "toc_position": {},
   "toc_section_display": true,
   "toc_window_display": false
  }
 },
 "nbformat": 4,
 "nbformat_minor": 5
}
